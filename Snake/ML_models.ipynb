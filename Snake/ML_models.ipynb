{
  "nbformat": 4,
  "nbformat_minor": 0,
  "metadata": {
    "colab": {
      "provenance": []
    },
    "kernelspec": {
      "name": "python3",
      "display_name": "Python 3"
    },
    "language_info": {
      "name": "python"
    }
  },
  "cells": [
    {
      "cell_type": "code",
      "execution_count": 32,
      "metadata": {
        "colab": {
          "base_uri": "https://localhost:8080/"
        },
        "id": "jIKUEQQCU-RX",
        "outputId": "2eb18143-e430-400d-f424-8d588f91b6ed"
      },
      "outputs": [
        {
          "output_type": "stream",
          "name": "stdout",
          "text": [
            "[2.0    1165\n",
            "1.0    1113\n",
            "Name: RIAGENDR, dtype: int64] [Adult     1914\n",
            "Senior     364\n",
            "Name: age_group, dtype: int64] [2.0    1868\n",
            "1.0     409\n",
            "7.0       1\n",
            "Name: PAQ605, dtype: int64] [2.0    2199\n",
            "3.0      58\n",
            "1.0      21\n",
            "Name: DIQ010, dtype: int64]\n"
          ]
        }
      ],
      "source": [
        "import pandas as pd\n",
        "import matplotlib.pyplot as plt\n",
        "import seaborn as sns\n",
        "data=pd.read_csv(\"/content/NHANES_age_prediction.csv\")\n",
        "data.drop(columns=['RIDAGEYR'], inplace=True)\n",
        "print(data.describe())\n",
        "count_missing = data.isnull().sum()\n",
        "gender_frequencies=[data['RIAGENDR'].value_counts()]\n",
        "age_frequencies=[data['age_group'].value_counts()]\n",
        "activity_frequencies=[data['PAQ605'].value_counts()]\n",
        "diabetes_frequencies=[data['DIQ010'].value_counts()]\n",
        "print(gender_frequencies, age_frequencies, activity_frequencies, diabetes_frequencies)\n",
        "sns.histplot(data['BMXBMI'])\n",
        "plt.show()\n",
        "sns.histplot(data['LBXGLU'])\n",
        "plt.show()\n",
        "sns.histplot(data['LBXGLT'])\n",
        "plt.show()\n",
        "sns.histplot(data['LBXIN'])\n",
        "plt.show()\n",
        "correlation_matrix= data.corr()\n",
        "sns.heatmap(correlation_matrix, annot=True, cmap='coolwarm')\n",
        "plt.show()"
      ]
    },
    {
      "cell_type": "code",
      "source": [
        "from sklearn.linear_model import LogisticRegression\n",
        "from sklearn.model_selection import StratifiedShuffleSplit\n",
        "from sklearn.metrics import accuracy_score, classification_report\n",
        "import numpy as np\n",
        "import joblib\n",
        "stratify_column = data['age_group']\n",
        "stratified_split = StratifiedShuffleSplit(n_splits=1, test_size=0.3, random_state=13)\n",
        "for train_index, test_index in stratified_split.split(data, stratify_column):\n",
        "    X_train = data.iloc[train_index]\n",
        "    X_test = data.iloc[test_index]\n",
        "X=X_train.drop(columns=['age_group'])\n",
        "Y=X_train['age_group']\n",
        "\n",
        "LR=LogisticRegression(random_state=13, max_iter=1000, class_weight={'Adult':1, 'Senior':6}).fit(X, Y)\n",
        "x_test=X_test.drop(columns=['age_group'])\n",
        "y_test=X_test['age_group']\n",
        "y_pred=LR.predict(x_test)\n",
        "accuracy = accuracy_score(y_test, y_pred)\n",
        "report = classification_report(y_test, y_pred)\n",
        "\n",
        "print(f'Accuracy: {accuracy:.4f}')\n",
        "print('Classification Report:\\n', report)\n",
        "\n",
        "joblib.dump(LR, 'LR.pkl')"
      ],
      "metadata": {
        "colab": {
          "base_uri": "https://localhost:8080/"
        },
        "id": "-3ynuUCFV5oj",
        "outputId": "2cfb3718-12f2-451f-997c-7b72bfb353d8"
      },
      "execution_count": 46,
      "outputs": [
        {
          "output_type": "stream",
          "name": "stdout",
          "text": [
            "Accuracy: 0.6667\n",
            "Classification Report:\n",
            "               precision    recall  f1-score   support\n",
            "\n",
            "       Adult       0.92      0.66      0.77       575\n",
            "      Senior       0.28      0.68      0.39       109\n",
            "\n",
            "    accuracy                           0.67       684\n",
            "   macro avg       0.60      0.67      0.58       684\n",
            "weighted avg       0.81      0.67      0.71       684\n",
            "\n"
          ]
        },
        {
          "output_type": "execute_result",
          "data": {
            "text/plain": [
              "['LR.pkl']"
            ]
          },
          "metadata": {},
          "execution_count": 46
        }
      ]
    },
    {
      "cell_type": "code",
      "source": [
        "from sklearn.svm import SVC\n",
        "from sklearn.model_selection import StratifiedShuffleSplit\n",
        "from sklearn.metrics import accuracy_score, classification_report\n",
        "import numpy as np\n",
        "stratify_column = data['age_group']\n",
        "stratified_split = StratifiedShuffleSplit(n_splits=1, test_size=0.3, random_state=13)\n",
        "for train_index, test_index in stratified_split.split(data, stratify_column):\n",
        "    X_train = data.iloc[train_index]\n",
        "    X_test = data.iloc[test_index]\n",
        "X=X_train.drop(columns=['age_group'])\n",
        "Y=X_train['age_group']\n",
        "svm = SVC(kernel='linear', class_weight={'Adult':1, 'Senior':5})\n",
        "svm=svm.fit(X, Y)\n",
        "x_test=X_test.drop(columns=['age_group'])\n",
        "y_test=X_test['age_group']\n",
        "y_pred=svm.predict(x_test)\n",
        "accuracy = accuracy_score(y_test, y_pred)\n",
        "report = classification_report(y_test, y_pred)\n",
        "\n",
        "print(f'Accuracy: {accuracy:.4f}')\n",
        "print('Classification Report:\\n', report)\n",
        "joblib.dump(svm, 'SVM.pkl')"
      ],
      "metadata": {
        "colab": {
          "base_uri": "https://localhost:8080/"
        },
        "id": "ah-Co3stdvbl",
        "outputId": "5a5bfe70-4c7a-467d-dca9-e47ba40f164c"
      },
      "execution_count": 54,
      "outputs": [
        {
          "output_type": "stream",
          "name": "stdout",
          "text": [
            "Accuracy: 0.6140\n",
            "Classification Report:\n",
            "               precision    recall  f1-score   support\n",
            "\n",
            "       Adult       0.95      0.57      0.71       575\n",
            "      Senior       0.27      0.83      0.41       109\n",
            "\n",
            "    accuracy                           0.61       684\n",
            "   macro avg       0.61      0.70      0.56       684\n",
            "weighted avg       0.84      0.61      0.67       684\n",
            "\n"
          ]
        },
        {
          "output_type": "execute_result",
          "data": {
            "text/plain": [
              "['SVM.pkl']"
            ]
          },
          "metadata": {},
          "execution_count": 54
        }
      ]
    },
    {
      "cell_type": "code",
      "source": [
        "!pip install catboost"
      ],
      "metadata": {
        "colab": {
          "base_uri": "https://localhost:8080/"
        },
        "id": "0YBqxVjIjOvw",
        "outputId": "0d71c2a9-4ea1-43f6-ae68-33d1a1d824ae"
      },
      "execution_count": 35,
      "outputs": [
        {
          "output_type": "stream",
          "name": "stdout",
          "text": [
            "Collecting catboost\n",
            "  Downloading catboost-1.2.2-cp310-cp310-manylinux2014_x86_64.whl (98.7 MB)\n",
            "\u001b[2K     \u001b[90m━━━━━━━━━━━━━━━━━━━━━━━━━━━━━━━━━━━━━━━━\u001b[0m \u001b[32m98.7/98.7 MB\u001b[0m \u001b[31m6.4 MB/s\u001b[0m eta \u001b[36m0:00:00\u001b[0m\n",
            "\u001b[?25hRequirement already satisfied: graphviz in /usr/local/lib/python3.10/dist-packages (from catboost) (0.20.1)\n",
            "Requirement already satisfied: matplotlib in /usr/local/lib/python3.10/dist-packages (from catboost) (3.7.1)\n",
            "Requirement already satisfied: numpy>=1.16.0 in /usr/local/lib/python3.10/dist-packages (from catboost) (1.23.5)\n",
            "Requirement already satisfied: pandas>=0.24 in /usr/local/lib/python3.10/dist-packages (from catboost) (1.5.3)\n",
            "Requirement already satisfied: scipy in /usr/local/lib/python3.10/dist-packages (from catboost) (1.11.3)\n",
            "Requirement already satisfied: plotly in /usr/local/lib/python3.10/dist-packages (from catboost) (5.15.0)\n",
            "Requirement already satisfied: six in /usr/local/lib/python3.10/dist-packages (from catboost) (1.16.0)\n",
            "Requirement already satisfied: python-dateutil>=2.8.1 in /usr/local/lib/python3.10/dist-packages (from pandas>=0.24->catboost) (2.8.2)\n",
            "Requirement already satisfied: pytz>=2020.1 in /usr/local/lib/python3.10/dist-packages (from pandas>=0.24->catboost) (2023.3.post1)\n",
            "Requirement already satisfied: contourpy>=1.0.1 in /usr/local/lib/python3.10/dist-packages (from matplotlib->catboost) (1.2.0)\n",
            "Requirement already satisfied: cycler>=0.10 in /usr/local/lib/python3.10/dist-packages (from matplotlib->catboost) (0.12.1)\n",
            "Requirement already satisfied: fonttools>=4.22.0 in /usr/local/lib/python3.10/dist-packages (from matplotlib->catboost) (4.44.3)\n",
            "Requirement already satisfied: kiwisolver>=1.0.1 in /usr/local/lib/python3.10/dist-packages (from matplotlib->catboost) (1.4.5)\n",
            "Requirement already satisfied: packaging>=20.0 in /usr/local/lib/python3.10/dist-packages (from matplotlib->catboost) (23.2)\n",
            "Requirement already satisfied: pillow>=6.2.0 in /usr/local/lib/python3.10/dist-packages (from matplotlib->catboost) (9.4.0)\n",
            "Requirement already satisfied: pyparsing>=2.3.1 in /usr/local/lib/python3.10/dist-packages (from matplotlib->catboost) (3.1.1)\n",
            "Requirement already satisfied: tenacity>=6.2.0 in /usr/local/lib/python3.10/dist-packages (from plotly->catboost) (8.2.3)\n",
            "Installing collected packages: catboost\n",
            "Successfully installed catboost-1.2.2\n"
          ]
        }
      ]
    },
    {
      "cell_type": "code",
      "source": [
        "\n",
        "from catboost import CatBoostClassifier\n",
        "from sklearn.model_selection import train_test_split\n",
        "from sklearn.metrics import accuracy_score, classification_report\n",
        "\n",
        "\n",
        "X=data.drop(columns=['age_group'])\n",
        "y=data['age_group']\n",
        "X_train, X_test, y_train, y_test = train_test_split(X, y, test_size=0.2, random_state=42)\n",
        "catboost_model = CatBoostClassifier(iterations=100, depth=5, learning_rate=0.1, loss_function='Logloss', class_weights={'Adult':1, 'Senior':3})\n",
        "catboost_model.fit(X_train, y_train, eval_set=(X_test, y_test), early_stopping_rounds=10, verbose=10)\n",
        "y_pred = catboost_model.predict(X_test)\n",
        "accuracy = accuracy_score(y_test, y_pred)\n",
        "report = classification_report(y_test, y_pred)\n",
        "\n",
        "print(f'Accuracy: {accuracy:.4f}')\n",
        "print('Classification Report:\\n', report)\n",
        "joblib.dump(catboost_model, 'catboost_model.pkl')"
      ],
      "metadata": {
        "colab": {
          "base_uri": "https://localhost:8080/"
        },
        "id": "mE6tqIElhdbm",
        "outputId": "e5ba6154-712c-4f26-fbcc-fe0798677c9d"
      },
      "execution_count": 49,
      "outputs": [
        {
          "output_type": "stream",
          "name": "stdout",
          "text": [
            "0:\tlearn: 0.6756666\ttest: 0.6782376\tbest: 0.6782376 (0)\ttotal: 1.26ms\tremaining: 125ms\n",
            "10:\tlearn: 0.5866451\ttest: 0.6044223\tbest: 0.6044223 (10)\ttotal: 25.3ms\tremaining: 204ms\n",
            "20:\tlearn: 0.5491844\ttest: 0.5792663\tbest: 0.5792663 (20)\ttotal: 52.6ms\tremaining: 198ms\n",
            "30:\tlearn: 0.5310532\ttest: 0.5699985\tbest: 0.5697043 (29)\ttotal: 80.3ms\tremaining: 179ms\n",
            "40:\tlearn: 0.5188900\ttest: 0.5652095\tbest: 0.5649954 (39)\ttotal: 108ms\tremaining: 156ms\n",
            "50:\tlearn: 0.5107706\ttest: 0.5605976\tbest: 0.5605976 (50)\ttotal: 135ms\tremaining: 130ms\n",
            "60:\tlearn: 0.5012702\ttest: 0.5577687\tbest: 0.5574179 (59)\ttotal: 160ms\tremaining: 102ms\n",
            "70:\tlearn: 0.4929686\ttest: 0.5573479\tbest: 0.5560251 (69)\ttotal: 189ms\tremaining: 77.4ms\n",
            "Stopped by overfitting detector  (10 iterations wait)\n",
            "\n",
            "bestTest = 0.5560250709\n",
            "bestIteration = 69\n",
            "\n",
            "Shrink model to first 70 iterations.\n",
            "Accuracy: 0.8114\n",
            "Classification Report:\n",
            "               precision    recall  f1-score   support\n",
            "\n",
            "       Adult       0.89      0.88      0.89       382\n",
            "      Senior       0.42      0.46      0.44        74\n",
            "\n",
            "    accuracy                           0.81       456\n",
            "   macro avg       0.66      0.67      0.66       456\n",
            "weighted avg       0.82      0.81      0.81       456\n",
            "\n"
          ]
        },
        {
          "output_type": "execute_result",
          "data": {
            "text/plain": [
              "['catboost_model.pkl']"
            ]
          },
          "metadata": {},
          "execution_count": 49
        }
      ]
    }
  ]
}